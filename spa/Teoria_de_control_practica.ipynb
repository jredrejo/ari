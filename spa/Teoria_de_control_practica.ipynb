{
 "cells": [
  {
   "cell_type": "markdown",
   "metadata": {},
   "source": [
    "# Teoría de Control práctica\n",
    "\n",
    "\n",
    "\n",
    "## Variable de Proceso y Set Point\n",
    "#### Variable de Proceso\n",
    "\n",
    "La variable medida que se desea estabilizar (controlar) recibe el nombre de variable de proceso (\"process value\") y se abrevia **PV**.\n",
    "Un buen ejemplo de variable de proceso es la temperatura, la cual mide el instrumento controlador mediante un termopar o una Pt100.\n",
    "\n",
    "Otro ejemplo de PV puede ser un caudal (litros/minuto), éste se mide mediante algún sensor y su transductor adecuado que entreguen una señal de 4 a 20 mA proporcional al caudal. La corriente 4 a 20 mA entra en el controlador en donde se reescala a las unidades originales de la PV.\n",
    "\n",
    "Ejemplos adicionales de PV pueden ser velocidad, presión, humedad, etc. cada una de las cuales se mide con el sensor apropiado y se convierten comúnmente a 4...20mA para ingresar al control.\n",
    "\n",
    "En adelante durante todo este documento se usará la temperatura como ejemplo de PV por ser lo más intuitivo. Esto no hace perder generalidad, pues todo lo que se hable sobre temperatura y hornos es perfectamente análogo a sistemas de control de velocidad, presión, etc.\n",
    "\n",
    "#### Set Point \n",
    "\n",
    "El valor prefijado (Set Point, **SP**) es el valor deseado de la variable de proceso, es el valor al cual el control debe mantener la PV.\n",
    "Por ejemplo, en un horno si la temperatura actual es 155 °C y el controlador está programado para llevar la temperatura a 200°C, PV=155 y SP=200.\n",
    "\n",
    "#### Error\n",
    "\n",
    "Se define error como la diferencia entre la variable de proceso PV y el set point SP,\n",
    "$$\n",
    "E = SP - PV\n",
    "$$\n",
    "En el ejemplo anterior \n",
    "$$\n",
    "\\begin{align*}\n",
    "E &= (SP - PV) \\\\\n",
    "&= (200 ^\\circ C - 155 ^\\circ C)\\\\ \n",
    "&= 45 ^\\circ C\n",
    "\\end{align*}\n",
    "$$\n",
    "Recuerde que el error será *positivo* cuando la temperatura sea menor que el set point, *PV < SP* .\n",
    "\n",
    "## Control On/Off\n",
    "Tomemos por ejemplo, el caso de un horno eléctrico. La temperatura aumenta al activar las resistencias de calentamiento mediante un contactor, gobernado a su vez por una relé o un transistor dentro del controlador.\n",
    "\n",
    "El modo de control ON/OFF es el más elemental y consiste en dar la orden de calentamiento cuando la temperatura está por debajo de la temperatura deseada SP y luego desactivarla cuando la temperatura esté por arriba.\n",
    "\n",
    "\n",
    "\n",
    "\n"
   ]
  },
  {
   "cell_type": "code",
   "execution_count": 25,
   "metadata": {},
   "outputs": [
    {
     "name": "stdout",
     "output_type": "stream",
     "text": [
      "Populating the interactive namespace from numpy and matplotlib\n"
     ]
    },
    {
     "data": {
      "text/plain": [
       "[<matplotlib.lines.Line2D at 0x7ffa62c61d68>,\n",
       " <matplotlib.lines.Line2D at 0x7ffa62c61f28>]"
      ]
     },
     "execution_count": 25,
     "metadata": {},
     "output_type": "execute_result"
    },
    {
     "data": {
      "image/png": "[encoded data removed]",
      "text/plain": [
       "<matplotlib.figure.Figure at 0x7ffa63243ef0>"
      ]
     },
     "metadata": {},
     "output_type": "display_data"
    }
   ],
   "source": [
    "%pylab inline\n",
    "def prueba2(x):\n",
    "    escala = 2\n",
    "    return where(x<0.25, escala * (1-cos(2*pi*x)), escala * (1-exp(-x) * cos(2*pi*x)) )  \n",
    "    \n",
    "freq = 1\n",
    "t = linspace(0,2,201) #two cycles, 100 points each\n",
    "y1 = pi*(sin(2*pi*freq*t))\n",
    "\n",
    "sqwave = sign(sin(2*pi*freq*t)) #an actual square wave\n",
    "plot( t, prueba2(t), t, sqwave)"
   ]
  },
  {
   "cell_type": "markdown",
   "metadata": {},
   "source": [
    "\n",
    "## PWM y tiempo de ciclo\n",
    "\n",
    "## Control Proporcional\n",
    "\n",
    "## Control Proporcional Derivativo PD\n",
    "\n",
    "## Control Proporcional Integral PI\n",
    "\n",
    "## Control Proporcional Integral Derivativo PID\n",
    "\n",
    "## Sintonización de un control PID\n",
    "\n",
    "### Oscilaciones en lazo cerrado\n",
    "\n",
    "### Respuesta al escalón"
   ]
  }
 ],
 "metadata": {
  "kernelspec": {
   "display_name": "Python 3",
   "language": "python",
   "name": "python3"
  },
  "language_info": {
   "codemirror_mode": {
    "name": "ipython",
    "version": 3
   },
   "file_extension": ".py",
   "mimetype": "text/x-python",
   "name": "python",
   "nbconvert_exporter": "python",
   "pygments_lexer": "ipython3",
   "version": "3.6.7"
  }
 },
 "nbformat": 4,
 "nbformat_minor": 2
}
