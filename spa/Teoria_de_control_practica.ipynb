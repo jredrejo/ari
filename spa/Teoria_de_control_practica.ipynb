{
 "cells": [
  {
   "cell_type": "markdown",
   "metadata": {},
   "source": [
    "# Teoría de Control práctica\n",
    "\n",
    "\n",
    "\n",
    "## Variable de Proceso y Set Point\n",
    "#### Variable de Proceso\n",
    "\n",
    "La variable medida que se desea estabilizar (controlar) recibe el nombre de variable de proceso (\"process value\") y se abrevia **PV**.\n",
    "Un buen ejemplo de variable de proceso es la temperatura, la cual mide el instrumento controlador mediante un termopar o una Pt100.\n",
    "\n",
    "Otro ejemplo de PV puede ser un caudal (litros/minuto), éste se mide mediante algún sensor y su transductor adecuado que entreguen una señal de 4 a 20 mA proporcional al caudal. La corriente 4 a 20 mA entra en el controlador en donde se reescala a las unidades originales de la PV.\n",
    "\n",
    "Ejemplos adicionales de PV pueden ser velocidad, presión, humedad, etc. cada una de las cuales se mide con el sensor apropiado y se convierten comúnmente a 4...20mA para ingresar al control.\n",
    "\n",
    "En adelante durante todo este documento se usará la temperatura como ejemplo de PV por ser lo más intuitivo. Esto no hace perder generalidad, pues todo lo que se hable sobre temperatura y hornos es perfectamente análogo a sistemas de control de velocidad, presión, etc.\n",
    "\n",
    "#### Set Point \n",
    "\n",
    "El valor prefijado (Set Point, **SP**) es el valor deseado de la variable de proceso, es el valor al cual el control debe mantener la PV.\n",
    "Por ejemplo, en un horno si la temperatura actual es 155 °C y el controlador está programado para llevar la temperatura a 200°C, PV=155 y SP=200.\n",
    "\n",
    "#### Error\n",
    "\n",
    "Se define error como la diferencia entre la variable de proceso PV y el set point SP,\n",
    "$$\n",
    "E = SP - PV\n",
    "$$\n",
    "En el ejemplo anterior \n",
    "$$\n",
    "\\begin{align*}\n",
    "E &= (SP - PV) \\\\\n",
    "&= (200 ^\\circ C - 155 ^\\circ C)\\\\ \n",
    "&= 45 ^\\circ C\n",
    "\\end{align*}\n",
    "$$\n",
    "Recuerde que el error será *positivo* cuando la temperatura sea menor que el set point, *PV < SP* .\n",
    "\n",
    "## Control On/Off\n",
    "Tomemos por ejemplo, el caso de un horno eléctrico. La temperatura aumenta al activar las resistencias de calentamiento mediante un contactor, gobernado a su vez por una relé o un transistor dentro del controlador.\n",
    "\n",
    "El modo de control ON/OFF es el más elemental y consiste en dar la orden de calentamiento cuando la temperatura está por debajo de la temperatura deseada SP y luego desactivarla cuando la temperatura esté por arriba.\n",
    "\n",
    "\n",
    "\n",
    "\n"
   ]
  },
  {
   "cell_type": "code",
   "execution_count": 53,
   "metadata": {},
   "outputs": [
    {
     "name": "stdout",
     "output_type": "stream",
     "text": [
      "Populating the interactive namespace from numpy and matplotlib\n"
     ]
    },
    {
     "data": {
      "text/plain": [
       "[<matplotlib.lines.Line2D at 0x7ffa621504e0>,\n",
       " <matplotlib.lines.Line2D at 0x7ffa621506a0>]"
      ]
     },
     "execution_count": 53,
     "metadata": {},
     "output_type": "execute_result"
    },
    {
     "data": {
      "image/png": "[encoded data removed]",
      "text/plain": [
       "<matplotlib.figure.Figure at 0x7ffa628c9128>"
      ]
     },
     "metadata": {},
     "output_type": "display_data"
    }
   ],
   "source": [
    "%pylab inline\n",
    "def prueba2(x):\n",
    "    escala = 2\n",
    "    return where(x<0.26, escala * (1-cos(2*pi*x)), 0.5 *(4-cos(2*pi*x)) )  \n",
    "    \n",
    "freq = 1\n",
    "t = linspace(0,3,301) #two cycles, 100 points each\n",
    "y1 = pi*(sin(2*pi*freq*t))\n",
    "\n",
    "sqwave = sign(sin(2*pi*freq*t)) #an actual square wave\n",
    "plot( t, prueba2(t), t, sqwave)"
   ]
  },
  {
   "cell_type": "markdown",
   "metadata": {},
   "source": [
    "Inevitablemente, debido a la inercia térmica del horno la temperatura estará continuamente fluctuando alrededor del SP.\n",
    "\n",
    "La inercia térmica es consecuencia del retardo en la propagación del calor en el interior del horno desde la resistencia de calentamiento hasta el sensor de temperatura.\n",
    "\n",
    "No es difícil imaginar que las **fluctuaciones aumentarán cuanto mayor sea la inercia térmica** del horno (retardo).\n",
    "\n",
    "Evidentemente este algoritmo de control no es el más adecuado cuando se desea una temperatura constante y uniforme, pero sí ofrece la ventaja de provocar poco desgaste en los contactores, pues estos se activan y desactivan lo mínimo necesario.\n",
    "\n",
    "#### Control On/Off con histéresis\n",
    "Incluso para reducir aún más el desgaste a veces se efectúa un control ON/OFF con histéresis, es decir que el mando de calentamiento se activa unos pocos grados por arriba del SP y se desactiva unos grados por abajo del SP, provocando por supuesto una mayor fluctuación de la temperatura pero menos activaciones de los contactores.\n",
    "\n",
    "El control ON/OFF con histéresis se usa generalmente en cámaras frigoríficas donde la temperatura debe estar dentro de un rango y se desea activar y desactivar lo menos posible los motores del sistema de refrigeración.\n",
    "\n",
    "## PWM y tiempo de ciclo\n",
    "#### Por que hace falta un control proporcional\n",
    "Para poder controlar la temperatura con menos fluctuaciones, se debe poder entregar al horno una potencia gradual, en la medida requerida para mantenerlo a la temperatura deseada.\n",
    "\n",
    "En el ejemplo anterior del control On/Off, el relé del mando de calentamiento estará activado 100%, entregando el máximo de potencia al horno o bien desactivado sin entregar potencia.\n",
    "\n",
    "El controlador proporcional entrega una potencia que varía en forma gradual entre 0 y 100% según se requiera y en forma proporcional al error (SP-PV).\n",
    "\n",
    "Lo más natural para entregar una potencia que varia de 0% a 100% en forma continua seria usar un horno a petróleo o gas y que el control module la potencia mediante la llave de paso del combustible. La llave cerrada seria 0% de potencia y la llave totalmente abierta seria 100%.\n",
    "\n",
    "El problema es que una **válvula motorizada** (gobernada mediante una señal 4..20 mA) es costosa y solo se justifica en aplicaciones que así lo requieran.\n",
    "\n",
    "#### Tiempo de ciclo y PWM\n",
    "\n",
    "Afortunadamente es posible modular de 0% a 100% la potencia que recibe un horno eléctrico mediante el mismo contactor que se usaría para un control on/off.\n",
    "\n",
    "La idea es modular el tiempo de activación del contactor durante un lapso de tiempo fijo tc, llamado **tiempo de ciclo**, menor al tiempo característico de respuesta del horno de modo que el horno reciba finalmente un promedio de la potencia.\n",
    "\n",
    "Para ilustrar esta técnica conocida como modulación por ancho de pulso (**PWM pulse width modulation**) recurrimos al siguiente ejemplo:\n",
    "\n",
    "`Suponiendo que un horno posee un tiempo de respuesta de 1 minuto. Al aplicarle pulsos de calentamiento periódicos de 4 segundos, modulados en duración, el horno experimentará un calentamiento proporcional al promedio de tiempo que ha estado activado, sin que su temperatura siga las fluctuaciones de 4 segundos con que se aplica la potencia.`\n",
    "`Supongamos que nuestro horno funciona con un calefactor de 1000W, si se requiere una potencia de 500W, equivalente a 50% de la total, entonces se activa 2 segundos el relé y se desactiva otros 2, para luego empezar otro ciclo.`\n",
    "`El efecto neto será que el horno recibe 50% de la potencia pero la temperatura no fluctúa al ritmo del tiempo de ciclo pues este es menor al tiempo de respuesta del horno.`\n",
    "`Siguiendo con el ejemplo, si hace falta 250W, es decir 25% de la potencia basta con tener 1 segundo activado el relé y 3 segundos desactivado.`\n",
    "\n",
    "Para sistemas típicos el tiempo de ciclo se ajusta entre 1 y 200 segundos según sea el caso.\n",
    "\n",
    "A mayor tiempo de ciclo, menos desgaste de los contactores, pero siempre tiene que ser inferior al **tiempo característico del sistema**.\n",
    "La práctica recomendada es usar un tiempo de ciclo igual a la mitad del tiempo característico del sistema.\n"
   ]
  },
  {
   "cell_type": "code",
   "execution_count": null,
   "metadata": {},
   "outputs": [],
   "source": []
  },
  {
   "cell_type": "markdown",
   "metadata": {},
   "source": [
    "## Control Proporcional\n",
    "\n",
    "Control proporcional\n",
    "\n",
    "Ya se menciono que el controlador proporcional entrega una potencia que varía en forma proporcional al error (SP-PV).\n",
    "Para poner en marcha un controlador proporcional se deben fijar los siguientes parámetros:\n",
    "\n",
    "- la temperatura deseada SP , por ej. SP = 200 °C\n",
    "- la banda proporcional Pb, por ej. Pb = 10 %\n",
    "- el tiempo de ciclo tc, por ej. tc = 4 seg.\n",
    "\n",
    "Por supuesto no hace falta definir el tiempo de ciclo si se va a usar una válvula motorizada como mecanismo de control.\n",
    "\n",
    "La banda proporcional Pb se programa en el controlador como un porcentaje del SP.\n",
    "Corresponde a una banda de temperatura situada por debajo del SP a lo largo de la cual, la potencia de salida variará proporcionalmente al error (SP-PV), disminuyendo cuanto más cercana sea la temperatura al SP.\n",
    "Internamente el controlador realizará el cálculo del porcentaje de salida *Out* mediante la siguiente fórmula:\n",
    "$$\n",
    "Out = [100\\% * \\frac{E}{banda}] \n",
    "$$\n",
    "\n",
    "$$\n",
    "banda = Pb * \\frac{SP}{100}\n",
    "$$\n",
    "\n",
    "$$\n",
    "E = (SP - PV)\n",
    "$$\n",
    "\n",
    "El corchete [ ] se usa para indicar saturación, es decir que si al evaluar el interior, resulta mayor de 100%, se deja en 100% y si resulta 0 o negativo, se deja en 0%.\n"
   ]
  },
  {
   "cell_type": "markdown",
   "metadata": {},
   "source": [
    "## Control Proporcional Derivativo PD\n",
    "\n",
    "## Control Proporcional Integral PI\n",
    "\n",
    "## Control Proporcional Integral Derivativo PID\n",
    "\n",
    "## Sintonización de un control PID\n",
    "\n",
    "### Oscilaciones en lazo cerrado\n",
    "\n",
    "### Respuesta al escalón"
   ]
  }
 ],
 "metadata": {
  "kernelspec": {
   "display_name": "Python 3",
   "language": "python",
   "name": "python3"
  },
  "language_info": {
   "codemirror_mode": {
    "name": "ipython",
    "version": 3
   },
   "file_extension": ".py",
   "mimetype": "text/x-python",
   "name": "python",
   "nbconvert_exporter": "python",
   "pygments_lexer": "ipython3",
   "version": "3.6.7"
  }
 },
 "nbformat": 4,
 "nbformat_minor": 2
}
