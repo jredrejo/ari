{
 "cells": [
  {
   "cell_type": "markdown",
   "metadata": {},
   "source": [
    "# Automatización y Robótica Industrial\n",
    "\n",
    "Esta colección de Notebooks contiene materiales y documentación de estudio para el Ciclo de Grado Superior de Automatización y Robótica Industrial.\n",
    "\n",
    "Se trata de material de distintas asignaturas al que se le añadirá la interactividad disponible a través de Python cuando se estime oportuno.\n",
    "\n",
    "El material está clasificado según los módulos en los que se ha impartido, aunque algunos Notebooks pueden ser utilizados en más de un módulo de segundo o primero.\n",
    "\n",
    "## Informática Industrial\n",
    "\n",
    "## Comunicaciones Industriales\n",
    "\n",
    "## Sistemas de Programación Avanzados\n",
    "\n",
    "[Teoría de Control práctica](spa/Teoria_de_control_practica.ipynb)\n",
    "\n",
    "\n",
    "[Calibración](spa/calibracion.ipynb)"
   ]
  }
 ],
 "metadata": {
  "kernelspec": {
   "display_name": "Python 3",
   "language": "python",
   "name": "python3"
  },
  "language_info": {
   "codemirror_mode": {
    "name": "ipython",
    "version": 3
   },
   "file_extension": ".py",
   "mimetype": "text/x-python",
   "name": "python",
   "nbconvert_exporter": "python",
   "pygments_lexer": "ipython3",
   "version": "3.6.7"
  }
 },
 "nbformat": 4,
 "nbformat_minor": 2
}
